{
 "cells": [
  {
   "cell_type": "code",
   "execution_count": 5,
   "id": "a23a6748-0fdf-414e-8375-c9f0b0fcb450",
   "metadata": {},
   "outputs": [
    {
     "name": "stdout",
     "output_type": "stream",
     "text": [
      "   Driver ID  Rewards              Reward Type\n",
      "0       D001    76.80  Sure Ride One-Time Pass\n",
      "1       D002    57.55  Sure Ride One-Time Pass\n",
      "2       D003    88.55  Sure Ride One-Time Pass\n",
      "3       D004    46.10             Fuel Coupons\n",
      "4       D005    65.55  Sure Ride One-Time Pass\n",
      "5       D006    36.60             Fuel Coupons\n",
      "6       D007    65.80  Sure Ride One-Time Pass\n",
      "7       D008    77.80  Sure Ride One-Time Pass\n",
      "8       D009    52.30  Sure Ride One-Time Pass\n",
      "9       D010    90.80  Sure Ride One-Time Pass\n",
      "10      D011    51.55  Sure Ride One-Time Pass\n",
      "11      D012    33.25             Fuel Coupons\n",
      "12      D013    78.42  Sure Ride One-Time Pass\n",
      "13      D014    43.35             Fuel Coupons\n",
      "14      D015    65.47  Sure Ride One-Time Pass\n",
      "15      D016    52.85  Sure Ride One-Time Pass\n",
      "16      D017    65.76  Sure Ride One-Time Pass\n",
      "17      D018    76.88  Sure Ride One-Time Pass\n",
      "18      D019    60.55  Sure Ride One-Time Pass\n",
      "19      D020    46.35             Fuel Coupons\n"
     ]
    }
   ],
   "source": [
    "import pandas as pd\n",
    "\n",
    "# Load the dataset\n",
    "file_path = \"/users/lokeshthangavel/documents/loki coding/sure ride/acceptance_score_dataset.csv\"\n",
    "df = pd.read_csv(file_path)\n",
    "\n",
    "# Reward Calculation Logic\n",
    "def calculate_rewards(row):\n",
    "    base_reward = 10  # Base reward for participation\n",
    "\n",
    "    # Streak bonus\n",
    "    streak_bonus = row[\"Ride Acceptance Streak\"] * 2\n",
    "\n",
    "    # Reward for accepting previously denied rides\n",
    "    denied_rides_bonus = row[\"Accepted Denied Rides\"] * 3  \n",
    "\n",
    "    # Customer rating bonus (scaled)\n",
    "    rating_bonus = row[\"Customer Rating\"] * 5\n",
    "\n",
    "    # Peak hour availability bonus\n",
    "    peak_bonus = (row[\"Peak Hour Availability (%)\"] / 100) * 4  \n",
    "\n",
    "    # Anti-gaming measures (penalty for excessive cancellations)\n",
    "    cancellation_penalty = (row[\"Cancellation Rate (%)\"] / 100) * -5  \n",
    "\n",
    "    # Calculate final reward\n",
    "    total_reward = (base_reward + streak_bonus + denied_rides_bonus +\n",
    "                    rating_bonus + peak_bonus + cancellation_penalty)\n",
    "\n",
    "    # Ensure rewards do not go negative\n",
    "    return max(total_reward, 0)\n",
    "\n",
    "# Apply reward function to each row\n",
    "df[\"Rewards\"] = df.apply(calculate_rewards, axis=1)\n",
    "\n",
    "# Categorize rewards into types\n",
    "def categorize_reward(points):\n",
    "    if points >= 50:\n",
    "        return \"Sure Ride One-Time Pass\"\n",
    "    elif points >= 30:\n",
    "        return \"Fuel Coupons\"\n",
    "    elif points >= 15:\n",
    "        return \"Shopping Vouchers\"\n",
    "    else:\n",
    "        return \"Free Maintenance\"\n",
    "\n",
    "df[\"Reward Type\"] = df[\"Rewards\"].apply(categorize_reward)\n",
    "\n",
    "# Display updated dataset with rewards\n",
    "print(df[[\"Driver ID\", \"Rewards\", \"Reward Type\"]])\n",
    "\n",
    "# Save the updated dataset\n",
    "df.to_csv(\"/users/lokeshthangavel/documents/loki coding/sure ride/updated_acceptance_score_data.csv\", index=False)"
   ]
  },
  {
   "cell_type": "code",
   "execution_count": null,
   "id": "43fe5e81-a5c9-4b9d-b2e8-c085af08d889",
   "metadata": {},
   "outputs": [],
   "source": []
  }
 ],
 "metadata": {
  "kernelspec": {
   "display_name": "Python 3 (ipykernel)",
   "language": "python",
   "name": "python3"
  },
  "language_info": {
   "codemirror_mode": {
    "name": "ipython",
    "version": 3
   },
   "file_extension": ".py",
   "mimetype": "text/x-python",
   "name": "python",
   "nbconvert_exporter": "python",
   "pygments_lexer": "ipython3",
   "version": "3.12.4"
  }
 },
 "nbformat": 4,
 "nbformat_minor": 5
}
